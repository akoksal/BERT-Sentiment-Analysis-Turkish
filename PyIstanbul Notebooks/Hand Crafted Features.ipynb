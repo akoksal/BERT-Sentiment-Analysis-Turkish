{
 "cells": [
  {
   "cell_type": "code",
   "execution_count": 2,
   "metadata": {},
   "outputs": [],
   "source": [
    "from sklearn.neural_network import MLPClassifier\n",
    "from sklearn.svm import SVC\n",
    "from utils import display_pca_scatterplot, grid_search\n",
    "import json\n",
    "import pandas as pd\n",
    "import random\n",
    "from sklearn.metrics import f1_score\n",
    "from spacy.tokenizer import Tokenizer\n",
    "from spacy.lang.tr import Turkish\n",
    "import numpy as np\n",
    "import warnings\n",
    "from tqdm import tqdm"
   ]
  },
  {
   "cell_type": "code",
   "execution_count": 11,
   "metadata": {},
   "outputs": [],
   "source": [
    "nlp = Turkish()\n",
    "stn_path = '../Other Data/SentiTurkNet/STN.xlsx'\n",
    "train_path = '../Boun Twitter Data/train.json'\n",
    "val_path = '../Boun Twitter Data/validation.json'\n",
    "test_path = '../Boun Twitter Data/test.json'"
   ]
  },
  {
   "cell_type": "code",
   "execution_count": 12,
   "metadata": {},
   "outputs": [],
   "source": [
    "#SentiTurkNet: Includes positive negative values of Turkish words\n",
    "#Check out this for more information: http://myweb.sabanciuniv.edu/rdehkharghani/sentiturknet-3/\n",
    "stn = pd.read_excel(stn_path)\n",
    "\n",
    "stn = stn.drop_duplicates(['synonyms']).set_index('synonyms')\n",
    "final_stn = {}\n",
    "for words in stn.index:\n",
    "    if words is np.nan:\n",
    "        continue\n",
    "    for word in words.split(','):\n",
    "        final_stn[word.strip()] = {'pos':stn.loc[words]['pos value'],'neg':stn.loc[words]['neg value']}"
   ]
  },
  {
   "cell_type": "code",
   "execution_count": 13,
   "metadata": {},
   "outputs": [],
   "source": [
    "def feature_extraction(text):\n",
    "    pos_val = 0\n",
    "    neg_val = 0 \n",
    "    for token in nlp(text):#splitting sentence into words by nlp(text)\n",
    "        word = token.text.lower()\n",
    "        if word in final_stn:\n",
    "            pos_val+=final_stn[word]['pos']\n",
    "            neg_val+=final_stn[word]['neg']\n",
    "    return [pos_val, neg_val]"
   ]
  },
  {
   "cell_type": "code",
   "execution_count": 14,
   "metadata": {},
   "outputs": [],
   "source": [
    "with open(train_path, 'r') as f:\n",
    "    train = json.load(f)\n",
    "with open(val_path, 'r') as f:\n",
    "    val = json.load(f)\n",
    "with open(test_path, 'r') as f:\n",
    "    test = json.load(f)\n",
    "\n",
    "train = train+val"
   ]
  },
  {
   "cell_type": "code",
   "execution_count": 15,
   "metadata": {},
   "outputs": [
    {
     "name": "stderr",
     "output_type": "stream",
     "text": [
      "100%|██████████| 6372/6372 [00:01<00:00, 3753.60it/s]\n",
      "100%|██████████| 1592/1592 [00:00<00:00, 3928.79it/s]\n"
     ]
    }
   ],
   "source": [
    "mapping = {'negative':0, 'neutral':1, 'positive':2}\n",
    "X_train = []\n",
    "y_train = []\n",
    "X_test = []\n",
    "y_test = []\n",
    "for element in tqdm(train):\n",
    "    X_train.append(feature_extraction(element['sentence']))\n",
    "    y_train.append(mapping[element['value']])\n",
    "for element in tqdm(test):\n",
    "    X_test.append(feature_extraction(element['sentence']))\n",
    "    y_test.append(mapping[element['value']])"
   ]
  },
  {
   "cell_type": "markdown",
   "metadata": {},
   "source": [
    "## Visualization of Word Vectors"
   ]
  },
  {
   "cell_type": "code",
   "execution_count": 17,
   "metadata": {},
   "outputs": [
    {
     "data": {
      "image/png": "[encoded data removed]",
      "text/plain": [
       "<Figure size 432x432 with 1 Axes>"
      ]
     },
     "metadata": {
      "needs_background": "light"
     },
     "output_type": "display_data"
    }
   ],
   "source": [
    "display_pca_scatterplot(X_train, y_train, 500)"
   ]
  },
  {
   "cell_type": "markdown",
   "metadata": {},
   "source": [
    "## Training a Model with Grid Search"
   ]
  },
  {
   "cell_type": "code",
   "execution_count": 18,
   "metadata": {},
   "outputs": [
    {
     "name": "stdout",
     "output_type": "stream",
     "text": [
      "# Tuning hyper-parameters for recall_macro\n",
      "\n",
      "Fitting 2 folds for each of 4 candidates, totalling 8 fits\n"
     ]
    },
    {
     "name": "stderr",
     "output_type": "stream",
     "text": [
      "[Parallel(n_jobs=-1)]: Using backend LokyBackend with 8 concurrent workers.\n",
      "[Parallel(n_jobs=-1)]: Done   3 out of   8 | elapsed:    5.5s remaining:    9.2s\n",
      "[Parallel(n_jobs=-1)]: Done   5 out of   8 | elapsed:    6.3s remaining:    3.8s\n",
      "[Parallel(n_jobs=-1)]: Done   8 out of   8 | elapsed:    8.3s finished\n"
     ]
    },
    {
     "name": "stdout",
     "output_type": "stream",
     "text": [
      "Best parameters set found on development set:\n",
      "{'activation': 'relu', 'alpha': 1e-05, 'hidden_layer_sizes': (50, 100, 50), 'learning_rate': 'adaptive', 'solver': 'adam'}\n",
      "Grid scores on development set:\n",
      "0.334 (+/-0.001) for {'activation': 'relu', 'alpha': 1e-05, 'hidden_layer_sizes': (50, 100, 50), 'learning_rate': 'constant', 'solver': 'sgd'}\n",
      "0.343 (+/-0.003) for {'activation': 'relu', 'alpha': 1e-05, 'hidden_layer_sizes': (50, 100, 50), 'learning_rate': 'constant', 'solver': 'adam'}\n",
      "0.334 (+/-0.001) for {'activation': 'relu', 'alpha': 1e-05, 'hidden_layer_sizes': (50, 100, 50), 'learning_rate': 'adaptive', 'solver': 'sgd'}\n",
      "0.344 (+/-0.009) for {'activation': 'relu', 'alpha': 1e-05, 'hidden_layer_sizes': (50, 100, 50), 'learning_rate': 'adaptive', 'solver': 'adam'}\n",
      "\n",
      "Detailed classification report:\n",
      "The model is trained on the full development set.\n",
      "The scores are computed on the full evaluation set.\n",
      "              precision    recall  f1-score   support\n",
      "\n",
      "           0       0.20      0.00      0.01       280\n",
      "           1       0.53      0.99      0.69       843\n",
      "           2       0.25      0.01      0.01       469\n",
      "\n",
      "    accuracy                           0.53      1592\n",
      "   macro avg       0.33      0.33      0.24      1592\n",
      "weighted avg       0.39      0.53      0.37      1592\n",
      "\n"
     ]
    }
   ],
   "source": [
    "tuned_parameters = {\n",
    "    'hidden_layer_sizes': [(50,100,50)],\n",
    "    'activation': ['relu'],\n",
    "    'solver': ['sgd', 'adam'],\n",
    "    'alpha': [0.00001],\n",
    "    'learning_rate': ['constant','adaptive'],\n",
    "}\n",
    "\n",
    "model = MLPClassifier(max_iter=1000)\n",
    "clf = grid_search(tuned_parameters, model, X_train, y_train, X_test, y_test, score='recall_macro')"
   ]
  },
  {
   "cell_type": "code",
   "execution_count": null,
   "metadata": {},
   "outputs": [],
   "source": []
  }
 ],
 "metadata": {
  "kernelspec": {
   "display_name": "Python 3",
   "language": "python",
   "name": "python3"
  },
  "language_info": {
   "codemirror_mode": {
    "name": "ipython",
    "version": 3
   },
   "file_extension": ".py",
   "mimetype": "text/x-python",
   "name": "python",
   "nbconvert_exporter": "python",
   "pygments_lexer": "ipython3",
   "version": "3.7.4"
  }
 },
 "nbformat": 4,
 "nbformat_minor": 2
}
